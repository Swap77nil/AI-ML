{
 "cells": [
  {
   "cell_type": "code",
   "execution_count": 3,
   "id": "b382b5dd",
   "metadata": {},
   "outputs": [
    {
     "name": "stdout",
     "output_type": "stream",
     "text": [
      "Steps: \n",
      "0 0\n",
      "4 0\n",
      "4 3\n",
      "0 3\n",
      "3 0\n",
      "3 3\n",
      "4 2\n",
      "0 2\n"
     ]
    },
    {
     "data": {
      "text/plain": [
       "True"
      ]
     },
     "execution_count": 3,
     "metadata": {},
     "output_type": "execute_result"
    }
   ],
   "source": [
    "from collections import defaultdict\n",
    "jug1, jug2, aim = 4, 3, 2\n",
    "visited = defaultdict(lambda: False)\n",
    "def waterJugSolver(amt1, amt2):\n",
    "    if (amt1 == aim and amt2 == 0) or (amt2 == aim and amt1 == 0):\n",
    "        print(amt1, amt2)\n",
    "        return True\n",
    "    if visited[(amt1, amt2)] == False:\n",
    "        print(amt1, amt2)\n",
    "        visited[(amt1, amt2)] = True\n",
    "        return (waterJugSolver(0, amt2) or\n",
    "        waterJugSolver(amt1, 0) or\n",
    "        waterJugSolver(jug1,amt2) or       \n",
    "        waterJugSolver(amt1, jug2) or\n",
    "        waterJugSolver(amt1 + min(amt2, (jug1-amt1)),\n",
    "        amt2 - min(amt2, (jug1-amt1))) or\n",
    "        waterJugSolver(amt1 - min(amt1, (jug2-amt2)),\n",
    "        amt2 + min(amt1, (jug2-amt2))))       \n",
    "    else:\n",
    "        return False    \n",
    "\n",
    "print(\"Steps: \")\n",
    "waterJugSolver(0, 0)"
   ]
  },
  {
   "cell_type": "code",
   "execution_count": null,
   "id": "d3cb0d4c",
   "metadata": {},
   "outputs": [],
   "source": []
  }
 ],
 "metadata": {
  "kernelspec": {
   "display_name": "Python 3 (ipykernel)",
   "language": "python",
   "name": "python3"
  },
  "language_info": {
   "codemirror_mode": {
    "name": "ipython",
    "version": 3
   },
   "file_extension": ".py",
   "mimetype": "text/x-python",
   "name": "python",
   "nbconvert_exporter": "python",
   "pygments_lexer": "ipython3",
   "version": "3.9.7"
  }
 },
 "nbformat": 4,
 "nbformat_minor": 5
}
