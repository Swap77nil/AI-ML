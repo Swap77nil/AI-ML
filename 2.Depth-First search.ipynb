{
 "cells": [
  {
   "cell_type": "code",
   "execution_count": 1,
   "id": "15897d9d",
   "metadata": {},
   "outputs": [
    {
     "name": "stdout",
     "output_type": "stream",
     "text": [
      "Following is the Depth-First Search\n",
      "5\n",
      "3\n",
      "2\n",
      "1\n",
      "4\n",
      "8\n",
      "7\n",
      "6\n"
     ]
    }
   ],
   "source": [
    "graph = {\n",
    " '5' : ['3','7'],\n",
    " '3' : ['2', '4'],\n",
    " '7' : ['6'],\n",
    " '6': [],\n",
    " '2' : ['1'],\n",
    " '1':[],\n",
    " '4' : ['8'],\n",
    " '8' : []\n",
    "}\n",
    "visited = set() # Set to keep track of visited nodes of graph.\n",
    "def dfs(visited, graph, node): #function for dfs\n",
    "    if node not in visited:\n",
    "        print (node)\n",
    "        visited.add(node)\n",
    "        for neighbour in graph[node]:\n",
    "            dfs(visited, graph, neighbour)\n",
    "# Driver Code\n",
    "print(\"Following is the Depth-First Search\")\n",
    "dfs(visited, graph, '5')"
   ]
  },
  {
   "cell_type": "code",
   "execution_count": null,
   "id": "88300989",
   "metadata": {},
   "outputs": [],
   "source": []
  }
 ],
 "metadata": {
  "kernelspec": {
   "display_name": "Python 3 (ipykernel)",
   "language": "python",
   "name": "python3"
  },
  "language_info": {
   "codemirror_mode": {
    "name": "ipython",
    "version": 3
   },
   "file_extension": ".py",
   "mimetype": "text/x-python",
   "name": "python",
   "nbconvert_exporter": "python",
   "pygments_lexer": "ipython3",
   "version": "3.9.7"
  }
 },
 "nbformat": 4,
 "nbformat_minor": 5
}
